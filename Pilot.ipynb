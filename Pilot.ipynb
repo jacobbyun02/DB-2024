{
 "cells": [
  {
   "cell_type": "code",
   "execution_count": 1,
   "id": "e093b220",
   "metadata": {
    "execution": {
     "iopub.execute_input": "2024-01-30T14:02:58.811050Z",
     "iopub.status.busy": "2024-01-30T14:02:58.810112Z",
     "iopub.status.idle": "2024-01-30T14:02:59.897392Z",
     "shell.execute_reply": "2024-01-30T14:02:59.895982Z"
    },
    "papermill": {
     "duration": 1.099295,
     "end_time": "2024-01-30T14:02:59.900678",
     "exception": false,
     "start_time": "2024-01-30T14:02:58.801383",
     "status": "completed"
    },
    "tags": []
   },
   "outputs": [],
   "source": [
    "import pandas as pd\n",
    "\n",
    "# source - IHME GBD 2019\n",
    "df_alcohol = pd.read_csv(\"alcohol_use_disorders.csv\")\n",
    "\n",
    "# source - The World Bank Global Financial Development\n",
    "df_risk = pd.read_csv(\"stock_price_volatility_g7.csv\")"
   ]
  },
  {
   "cell_type": "markdown",
   "id": "f6399108",
   "metadata": {
    "papermill": {
     "duration": 0.006273,
     "end_time": "2024-01-30T14:02:59.914182",
     "exception": false,
     "start_time": "2024-01-30T14:02:59.907909",
     "status": "completed"
    },
    "tags": []
   },
   "source": [
    "### Data Preperation"
   ]
  },
  {
   "cell_type": "code",
   "execution_count": 2,
   "id": "f3cd6ef2",
   "metadata": {
    "execution": {
     "iopub.execute_input": "2024-01-30T14:02:59.929594Z",
     "iopub.status.busy": "2024-01-30T14:02:59.928693Z",
     "iopub.status.idle": "2024-01-30T14:02:59.971082Z",
     "shell.execute_reply": "2024-01-30T14:02:59.969846Z"
    },
    "papermill": {
     "duration": 0.053237,
     "end_time": "2024-01-30T14:02:59.973955",
     "exception": false,
     "start_time": "2024-01-30T14:02:59.920718",
     "status": "completed"
    },
    "scrolled": true,
    "tags": []
   },
   "outputs": [
    {
     "data": {
      "text/html": [
       "<div>\n",
       "<style scoped>\n",
       "    .dataframe tbody tr th:only-of-type {\n",
       "        vertical-align: middle;\n",
       "    }\n",
       "\n",
       "    .dataframe tbody tr th {\n",
       "        vertical-align: top;\n",
       "    }\n",
       "\n",
       "    .dataframe thead th {\n",
       "        text-align: right;\n",
       "    }\n",
       "</style>\n",
       "<table border=\"1\" class=\"dataframe\">\n",
       "  <thead>\n",
       "    <tr style=\"text-align: right;\">\n",
       "      <th></th>\n",
       "      <th>Series Name</th>\n",
       "      <th>Country Name</th>\n",
       "      <th>Country Code</th>\n",
       "      <th>1990 [YR1990]</th>\n",
       "      <th>1991 [YR1991]</th>\n",
       "      <th>1992 [YR1992]</th>\n",
       "      <th>1993 [YR1993]</th>\n",
       "      <th>1994 [YR1994]</th>\n",
       "      <th>1995 [YR1995]</th>\n",
       "      <th>1996 [YR1996]</th>\n",
       "      <th>...</th>\n",
       "      <th>2012 [YR2012]</th>\n",
       "      <th>2013 [YR2013]</th>\n",
       "      <th>2014 [YR2014]</th>\n",
       "      <th>2015 [YR2015]</th>\n",
       "      <th>2016 [YR2016]</th>\n",
       "      <th>2017 [YR2017]</th>\n",
       "      <th>2018 [YR2018]</th>\n",
       "      <th>2019 [YR2019]</th>\n",
       "      <th>2020 [YR2020]</th>\n",
       "      <th>2021 [YR2021]</th>\n",
       "    </tr>\n",
       "  </thead>\n",
       "  <tbody>\n",
       "    <tr>\n",
       "      <th>0</th>\n",
       "      <td>Stock price volatility</td>\n",
       "      <td>Japan</td>\n",
       "      <td>JPN</td>\n",
       "      <td>15.041940</td>\n",
       "      <td>24.822410</td>\n",
       "      <td>21.984690</td>\n",
       "      <td>22.128020</td>\n",
       "      <td>18.792220</td>\n",
       "      <td>16.969580</td>\n",
       "      <td>15.808860</td>\n",
       "      <td>...</td>\n",
       "      <td>19.78590</td>\n",
       "      <td>20.18368</td>\n",
       "      <td>22.282340</td>\n",
       "      <td>18.27540</td>\n",
       "      <td>24.89919</td>\n",
       "      <td>21.02885</td>\n",
       "      <td>13.436020</td>\n",
       "      <td>16.53054</td>\n",
       "      <td>19.30813</td>\n",
       "      <td>19.26422</td>\n",
       "    </tr>\n",
       "    <tr>\n",
       "      <th>1</th>\n",
       "      <td>Stock price volatility</td>\n",
       "      <td>United States</td>\n",
       "      <td>USA</td>\n",
       "      <td>14.158380</td>\n",
       "      <td>16.071580</td>\n",
       "      <td>12.995750</td>\n",
       "      <td>9.947115</td>\n",
       "      <td>9.037936</td>\n",
       "      <td>9.045654</td>\n",
       "      <td>9.915802</td>\n",
       "      <td>...</td>\n",
       "      <td>21.04165</td>\n",
       "      <td>13.91965</td>\n",
       "      <td>11.291030</td>\n",
       "      <td>12.56322</td>\n",
       "      <td>15.72065</td>\n",
       "      <td>11.00858</td>\n",
       "      <td>11.120380</td>\n",
       "      <td>15.48678</td>\n",
       "      <td>26.74141</td>\n",
       "      <td>24.99284</td>\n",
       "    </tr>\n",
       "    <tr>\n",
       "      <th>2</th>\n",
       "      <td>Stock price volatility</td>\n",
       "      <td>Korea, Rep.</td>\n",
       "      <td>KOR</td>\n",
       "      <td>25.140400</td>\n",
       "      <td>22.097270</td>\n",
       "      <td>23.658940</td>\n",
       "      <td>21.817150</td>\n",
       "      <td>16.847140</td>\n",
       "      <td>33.367690</td>\n",
       "      <td>28.735270</td>\n",
       "      <td>...</td>\n",
       "      <td>10.45077</td>\n",
       "      <td>12.51602</td>\n",
       "      <td>13.207930</td>\n",
       "      <td>10.99904</td>\n",
       "      <td>10.71165</td>\n",
       "      <td>12.95550</td>\n",
       "      <td>13.892220</td>\n",
       "      <td>20.90015</td>\n",
       "      <td>25.47351</td>\n",
       "      <td>20.18115</td>\n",
       "    </tr>\n",
       "    <tr>\n",
       "      <th>3</th>\n",
       "      <td>Stock price volatility</td>\n",
       "      <td>Germany</td>\n",
       "      <td>DEU</td>\n",
       "      <td>22.187430</td>\n",
       "      <td>23.957390</td>\n",
       "      <td>16.967760</td>\n",
       "      <td>13.197430</td>\n",
       "      <td>13.974090</td>\n",
       "      <td>13.706650</td>\n",
       "      <td>11.739120</td>\n",
       "      <td>...</td>\n",
       "      <td>26.59126</td>\n",
       "      <td>18.52831</td>\n",
       "      <td>14.450420</td>\n",
       "      <td>18.34303</td>\n",
       "      <td>23.42877</td>\n",
       "      <td>16.79665</td>\n",
       "      <td>12.499040</td>\n",
       "      <td>14.94337</td>\n",
       "      <td>24.47580</td>\n",
       "      <td>24.37885</td>\n",
       "    </tr>\n",
       "    <tr>\n",
       "      <th>4</th>\n",
       "      <td>Stock price volatility</td>\n",
       "      <td>Italy</td>\n",
       "      <td>ITA</td>\n",
       "      <td>NaN</td>\n",
       "      <td>NaN</td>\n",
       "      <td>NaN</td>\n",
       "      <td>NaN</td>\n",
       "      <td>NaN</td>\n",
       "      <td>NaN</td>\n",
       "      <td>NaN</td>\n",
       "      <td>...</td>\n",
       "      <td>33.01824</td>\n",
       "      <td>27.62747</td>\n",
       "      <td>20.869730</td>\n",
       "      <td>24.10843</td>\n",
       "      <td>29.67103</td>\n",
       "      <td>24.85292</td>\n",
       "      <td>15.678930</td>\n",
       "      <td>17.27391</td>\n",
       "      <td>27.83454</td>\n",
       "      <td>26.71594</td>\n",
       "    </tr>\n",
       "    <tr>\n",
       "      <th>5</th>\n",
       "      <td>Stock price volatility</td>\n",
       "      <td>Canada</td>\n",
       "      <td>CAN</td>\n",
       "      <td>9.093241</td>\n",
       "      <td>9.116957</td>\n",
       "      <td>8.125984</td>\n",
       "      <td>7.820632</td>\n",
       "      <td>9.683888</td>\n",
       "      <td>9.569884</td>\n",
       "      <td>8.235611</td>\n",
       "      <td>...</td>\n",
       "      <td>17.01751</td>\n",
       "      <td>12.34927</td>\n",
       "      <td>9.530421</td>\n",
       "      <td>11.48874</td>\n",
       "      <td>14.97211</td>\n",
       "      <td>10.78296</td>\n",
       "      <td>8.210422</td>\n",
       "      <td>9.63318</td>\n",
       "      <td>24.27321</td>\n",
       "      <td>22.86709</td>\n",
       "    </tr>\n",
       "    <tr>\n",
       "      <th>6</th>\n",
       "      <td>Stock price volatility</td>\n",
       "      <td>France</td>\n",
       "      <td>FRA</td>\n",
       "      <td>16.837150</td>\n",
       "      <td>21.870120</td>\n",
       "      <td>18.562440</td>\n",
       "      <td>18.661340</td>\n",
       "      <td>17.039800</td>\n",
       "      <td>17.742850</td>\n",
       "      <td>16.047440</td>\n",
       "      <td>...</td>\n",
       "      <td>27.35640</td>\n",
       "      <td>20.78452</td>\n",
       "      <td>15.406280</td>\n",
       "      <td>18.41038</td>\n",
       "      <td>23.62713</td>\n",
       "      <td>17.37942</td>\n",
       "      <td>11.669650</td>\n",
       "      <td>13.72222</td>\n",
       "      <td>24.65057</td>\n",
       "      <td>24.61805</td>\n",
       "    </tr>\n",
       "    <tr>\n",
       "      <th>7</th>\n",
       "      <td>Stock price volatility</td>\n",
       "      <td>United Kingdom</td>\n",
       "      <td>GBR</td>\n",
       "      <td>12.611740</td>\n",
       "      <td>13.541030</td>\n",
       "      <td>12.914880</td>\n",
       "      <td>13.199880</td>\n",
       "      <td>10.359250</td>\n",
       "      <td>10.528230</td>\n",
       "      <td>8.326374</td>\n",
       "      <td>...</td>\n",
       "      <td>19.47260</td>\n",
       "      <td>14.07119</td>\n",
       "      <td>11.244900</td>\n",
       "      <td>12.60134</td>\n",
       "      <td>17.39943</td>\n",
       "      <td>13.37846</td>\n",
       "      <td>9.617433</td>\n",
       "      <td>11.70249</td>\n",
       "      <td>21.54198</td>\n",
       "      <td>22.01797</td>\n",
       "    </tr>\n",
       "  </tbody>\n",
       "</table>\n",
       "<p>8 rows × 35 columns</p>\n",
       "</div>"
      ],
      "text/plain": [
       "              Series Name    Country Name Country Code  1990 [YR1990]  \\\n",
       "0  Stock price volatility           Japan          JPN      15.041940   \n",
       "1  Stock price volatility   United States          USA      14.158380   \n",
       "2  Stock price volatility     Korea, Rep.          KOR      25.140400   \n",
       "3  Stock price volatility         Germany          DEU      22.187430   \n",
       "4  Stock price volatility           Italy          ITA            NaN   \n",
       "5  Stock price volatility          Canada          CAN       9.093241   \n",
       "6  Stock price volatility          France          FRA      16.837150   \n",
       "7  Stock price volatility  United Kingdom          GBR      12.611740   \n",
       "\n",
       "   1991 [YR1991]  1992 [YR1992]  1993 [YR1993]  1994 [YR1994]  1995 [YR1995]  \\\n",
       "0      24.822410      21.984690      22.128020      18.792220      16.969580   \n",
       "1      16.071580      12.995750       9.947115       9.037936       9.045654   \n",
       "2      22.097270      23.658940      21.817150      16.847140      33.367690   \n",
       "3      23.957390      16.967760      13.197430      13.974090      13.706650   \n",
       "4            NaN            NaN            NaN            NaN            NaN   \n",
       "5       9.116957       8.125984       7.820632       9.683888       9.569884   \n",
       "6      21.870120      18.562440      18.661340      17.039800      17.742850   \n",
       "7      13.541030      12.914880      13.199880      10.359250      10.528230   \n",
       "\n",
       "   1996 [YR1996]  ...  2012 [YR2012]  2013 [YR2013]  2014 [YR2014]  \\\n",
       "0      15.808860  ...       19.78590       20.18368      22.282340   \n",
       "1       9.915802  ...       21.04165       13.91965      11.291030   \n",
       "2      28.735270  ...       10.45077       12.51602      13.207930   \n",
       "3      11.739120  ...       26.59126       18.52831      14.450420   \n",
       "4            NaN  ...       33.01824       27.62747      20.869730   \n",
       "5       8.235611  ...       17.01751       12.34927       9.530421   \n",
       "6      16.047440  ...       27.35640       20.78452      15.406280   \n",
       "7       8.326374  ...       19.47260       14.07119      11.244900   \n",
       "\n",
       "   2015 [YR2015]  2016 [YR2016]  2017 [YR2017]  2018 [YR2018]  2019 [YR2019]  \\\n",
       "0       18.27540       24.89919       21.02885      13.436020       16.53054   \n",
       "1       12.56322       15.72065       11.00858      11.120380       15.48678   \n",
       "2       10.99904       10.71165       12.95550      13.892220       20.90015   \n",
       "3       18.34303       23.42877       16.79665      12.499040       14.94337   \n",
       "4       24.10843       29.67103       24.85292      15.678930       17.27391   \n",
       "5       11.48874       14.97211       10.78296       8.210422        9.63318   \n",
       "6       18.41038       23.62713       17.37942      11.669650       13.72222   \n",
       "7       12.60134       17.39943       13.37846       9.617433       11.70249   \n",
       "\n",
       "   2020 [YR2020]  2021 [YR2021]  \n",
       "0       19.30813       19.26422  \n",
       "1       26.74141       24.99284  \n",
       "2       25.47351       20.18115  \n",
       "3       24.47580       24.37885  \n",
       "4       27.83454       26.71594  \n",
       "5       24.27321       22.86709  \n",
       "6       24.65057       24.61805  \n",
       "7       21.54198       22.01797  \n",
       "\n",
       "[8 rows x 35 columns]"
      ]
     },
     "execution_count": 2,
     "metadata": {},
     "output_type": "execute_result"
    }
   ],
   "source": [
    "df_risk"
   ]
  },
  {
   "cell_type": "code",
   "execution_count": 3,
   "id": "cb20cbdf",
   "metadata": {
    "execution": {
     "iopub.execute_input": "2024-01-30T14:02:59.990695Z",
     "iopub.status.busy": "2024-01-30T14:02:59.990267Z",
     "iopub.status.idle": "2024-01-30T14:03:00.003223Z",
     "shell.execute_reply": "2024-01-30T14:03:00.001967Z"
    },
    "papermill": {
     "duration": 0.02432,
     "end_time": "2024-01-30T14:03:00.005775",
     "exception": false,
     "start_time": "2024-01-30T14:02:59.981455",
     "status": "completed"
    },
    "tags": []
   },
   "outputs": [],
   "source": [
    "df_risk = df_risk.drop([\"Series Name\", \"Country Code\"], axis = 1)\n",
    "df_risk = df_risk.rename(columns={\"Country Name\": \"Country\"})\n",
    "df_risk.loc[2, \"Country\"] = \"South Korea\""
   ]
  },
  {
   "cell_type": "code",
   "execution_count": 4,
   "id": "34b7c070",
   "metadata": {
    "execution": {
     "iopub.execute_input": "2024-01-30T14:03:00.022814Z",
     "iopub.status.busy": "2024-01-30T14:03:00.021931Z",
     "iopub.status.idle": "2024-01-30T14:03:00.032338Z",
     "shell.execute_reply": "2024-01-30T14:03:00.030896Z"
    },
    "papermill": {
     "duration": 0.021798,
     "end_time": "2024-01-30T14:03:00.034962",
     "exception": false,
     "start_time": "2024-01-30T14:03:00.013164",
     "status": "completed"
    },
    "tags": []
   },
   "outputs": [],
   "source": [
    "#Rename year for df_risk\n",
    "\n",
    "year_index = {}\n",
    "year_list = []\n",
    "\n",
    "for i_year in range(1990, 2022):\n",
    "    year_list.append(i_year)\n",
    "\n",
    "for year in year_list:\n",
    "    target_index = f\"{year}\"+\" [YR\"+f\"{year}\"+\"]\"\n",
    "    year_index[target_index] = year\n",
    "    \n",
    "df_risk = df_risk.rename(columns=year_index)\n",
    "df_risk = df_risk.sort_values(\"Country\")"
   ]
  },
  {
   "cell_type": "code",
   "execution_count": 5,
   "id": "4e240ceb",
   "metadata": {
    "execution": {
     "iopub.execute_input": "2024-01-30T14:03:00.051313Z",
     "iopub.status.busy": "2024-01-30T14:03:00.050609Z",
     "iopub.status.idle": "2024-01-30T14:03:00.058931Z",
     "shell.execute_reply": "2024-01-30T14:03:00.057876Z"
    },
    "papermill": {
     "duration": 0.019414,
     "end_time": "2024-01-30T14:03:00.061636",
     "exception": false,
     "start_time": "2024-01-30T14:03:00.042222",
     "status": "completed"
    },
    "scrolled": true,
    "tags": []
   },
   "outputs": [],
   "source": [
    "alcohol_code = \"Current number of cases of alcohol use disorders per 100 people, in both sexes aged age-standardized\"\n",
    "df_alcohol = df_alcohol.rename(columns={\"Entity\": \"Country\", alcohol_code: \"Alcohol\"})\n",
    "df_alcohol = df_alcohol.drop([\"Code\"], axis = 1)"
   ]
  },
  {
   "cell_type": "code",
   "execution_count": 6,
   "id": "12b84250",
   "metadata": {
    "execution": {
     "iopub.execute_input": "2024-01-30T14:03:00.077955Z",
     "iopub.status.busy": "2024-01-30T14:03:00.077536Z",
     "iopub.status.idle": "2024-01-30T14:03:00.174163Z",
     "shell.execute_reply": "2024-01-30T14:03:00.173048Z"
    },
    "papermill": {
     "duration": 0.108162,
     "end_time": "2024-01-30T14:03:00.177132",
     "exception": false,
     "start_time": "2024-01-30T14:03:00.068970",
     "status": "completed"
    },
    "tags": []
   },
   "outputs": [],
   "source": [
    "#Select Countries for df_alcohol\n",
    "country_index = []\n",
    "country_list = list(df_risk[\"Country\"].unique())\n",
    "for i_country in range(6840):\n",
    "    if df_alcohol[\"Country\"][i_country] not in country_list:\n",
    "        country_index.append(i_country)\n",
    "df_alcohol = df_alcohol.drop(country_index, axis=0)\n",
    "df_alcohol = df_alcohol.sort_values(\"Country\")"
   ]
  },
  {
   "cell_type": "code",
   "execution_count": 7,
   "id": "1432568a",
   "metadata": {
    "execution": {
     "iopub.execute_input": "2024-01-30T14:03:00.193416Z",
     "iopub.status.busy": "2024-01-30T14:03:00.193046Z",
     "iopub.status.idle": "2024-01-30T14:03:00.226225Z",
     "shell.execute_reply": "2024-01-30T14:03:00.224969Z"
    },
    "papermill": {
     "duration": 0.044513,
     "end_time": "2024-01-30T14:03:00.228855",
     "exception": false,
     "start_time": "2024-01-30T14:03:00.184342",
     "status": "completed"
    },
    "tags": []
   },
   "outputs": [],
   "source": [
    "#Convert df_alcohol into time series form\n",
    "df_alc = pd.DataFrame()\n",
    "year_list = []\n",
    "\n",
    "df_alc[\"Country\"] = country_list\n",
    "\n",
    "for i_year in range(1990, 2020):\n",
    "    year_list.append(i_year)\n",
    "    \n",
    "for j_year in year_list:\n",
    "    df_alc[str(j_year)] = list(df_alcohol.loc[df_alcohol[\"Year\"]==j_year, \"Alcohol\"])\n",
    "    \n",
    "df_alcohol = df_alc"
   ]
  },
  {
   "cell_type": "code",
   "execution_count": 8,
   "id": "72d08f1d",
   "metadata": {
    "execution": {
     "iopub.execute_input": "2024-01-30T14:03:00.245205Z",
     "iopub.status.busy": "2024-01-30T14:03:00.244783Z",
     "iopub.status.idle": "2024-01-30T14:03:00.253504Z",
     "shell.execute_reply": "2024-01-30T14:03:00.252354Z"
    },
    "papermill": {
     "duration": 0.019959,
     "end_time": "2024-01-30T14:03:00.256082",
     "exception": false,
     "start_time": "2024-01-30T14:03:00.236123",
     "status": "completed"
    },
    "scrolled": true,
    "tags": []
   },
   "outputs": [],
   "source": [
    "#transpose dataframes\n",
    "\n",
    "index_list = [5, 6, 3, 4, 0, 2, 7, 1]\n",
    "index = {}\n",
    "count = 0\n",
    "\n",
    "df_risk = df_risk.transpose()\n",
    "for i_index_1 in index_list:\n",
    "    index[i_index_1] = country_list[count]\n",
    "    count += 1\n",
    "    \n",
    "df_risk = df_risk.rename(columns=index)\n",
    "df_risk = df_risk.drop([\"Country\"], axis=0)"
   ]
  },
  {
   "cell_type": "code",
   "execution_count": 9,
   "id": "6281bd5c",
   "metadata": {
    "execution": {
     "iopub.execute_input": "2024-01-30T14:03:00.271933Z",
     "iopub.status.busy": "2024-01-30T14:03:00.271514Z",
     "iopub.status.idle": "2024-01-30T14:03:00.280209Z",
     "shell.execute_reply": "2024-01-30T14:03:00.279066Z"
    },
    "papermill": {
     "duration": 0.019562,
     "end_time": "2024-01-30T14:03:00.282688",
     "exception": false,
     "start_time": "2024-01-30T14:03:00.263126",
     "status": "completed"
    },
    "tags": []
   },
   "outputs": [],
   "source": [
    "index = {}\n",
    "count = 0\n",
    "\n",
    "df_alcohol = df_alcohol.transpose()\n",
    "\n",
    "for i_index_2 in range(8):\n",
    "    index[i_index_2] = country_list[count]\n",
    "    count += 1\n",
    "    \n",
    "df_alcohol = df_alcohol.rename(columns=index)\n",
    "df_alcohol = df_alcohol.drop([\"Country\"], axis=0)"
   ]
  },
  {
   "cell_type": "code",
   "execution_count": 10,
   "id": "e1bb6b4e",
   "metadata": {
    "execution": {
     "iopub.execute_input": "2024-01-30T14:03:00.299152Z",
     "iopub.status.busy": "2024-01-30T14:03:00.298720Z",
     "iopub.status.idle": "2024-01-30T14:03:00.306499Z",
     "shell.execute_reply": "2024-01-30T14:03:00.305253Z"
    },
    "papermill": {
     "duration": 0.01916,
     "end_time": "2024-01-30T14:03:00.309197",
     "exception": false,
     "start_time": "2024-01-30T14:03:00.290037",
     "status": "completed"
    },
    "tags": []
   },
   "outputs": [
    {
     "name": "stderr",
     "output_type": "stream",
     "text": [
      "/tmp/ipykernel_18/2385035680.py:8: FutureWarning: Downcasting object dtype arrays on .fillna, .ffill, .bfill is deprecated and will change in a future version. Call result.infer_objects(copy=False) instead. To opt-in to the future behavior, set `pd.set_option('future.no_silent_downcasting', True)`\n",
      "  df_risk = df_risk.fillna(df_risk[\"Italy\"][9:].mean())\n"
     ]
    }
   ],
   "source": [
    "#Handling Missing Values\n",
    "\n",
    "# df_alcohol.isna().any()\n",
    "# df_risk.isna().sum()\n",
    "\n",
    "#Fill Missing Values with Mean\n",
    "\n",
    "df_risk = df_risk.fillna(df_risk[\"Italy\"][9:].mean())"
   ]
  },
  {
   "cell_type": "code",
   "execution_count": 11,
   "id": "d8d48b65",
   "metadata": {
    "execution": {
     "iopub.execute_input": "2024-01-30T14:03:00.326241Z",
     "iopub.status.busy": "2024-01-30T14:03:00.325820Z",
     "iopub.status.idle": "2024-01-30T14:03:00.332583Z",
     "shell.execute_reply": "2024-01-30T14:03:00.331384Z"
    },
    "papermill": {
     "duration": 0.018197,
     "end_time": "2024-01-30T14:03:00.335206",
     "exception": false,
     "start_time": "2024-01-30T14:03:00.317009",
     "status": "completed"
    },
    "scrolled": true,
    "tags": []
   },
   "outputs": [],
   "source": [
    "#Trim Risk Data to match Alcohol Data\n",
    "\n",
    "df_risk = df_risk.drop([2020, 2021], axis=0)"
   ]
  },
  {
   "cell_type": "code",
   "execution_count": 12,
   "id": "35019307",
   "metadata": {
    "execution": {
     "iopub.execute_input": "2024-01-30T14:03:00.352660Z",
     "iopub.status.busy": "2024-01-30T14:03:00.352205Z",
     "iopub.status.idle": "2024-01-30T14:03:00.359289Z",
     "shell.execute_reply": "2024-01-30T14:03:00.357918Z"
    },
    "papermill": {
     "duration": 0.018671,
     "end_time": "2024-01-30T14:03:00.361863",
     "exception": false,
     "start_time": "2024-01-30T14:03:00.343192",
     "status": "completed"
    },
    "tags": []
   },
   "outputs": [],
   "source": [
    "#Adjust the index type of Alcohol DF\n",
    "\n",
    "rename = {}\n",
    "for name in range(1990, 2020):\n",
    "    rename[str(name)] = name\n",
    "    \n",
    "df_alcohol = df_alcohol.rename(index = rename)"
   ]
  },
  {
   "cell_type": "markdown",
   "id": "c5b6dc0f",
   "metadata": {
    "papermill": {
     "duration": 0.00719,
     "end_time": "2024-01-30T14:03:00.376471",
     "exception": false,
     "start_time": "2024-01-30T14:03:00.369281",
     "status": "completed"
    },
    "tags": []
   },
   "source": [
    "### Data Exploration"
   ]
  },
  {
   "cell_type": "code",
   "execution_count": 13,
   "id": "b8f03973",
   "metadata": {
    "execution": {
     "iopub.execute_input": "2024-01-30T14:03:00.393307Z",
     "iopub.status.busy": "2024-01-30T14:03:00.392439Z",
     "iopub.status.idle": "2024-01-30T14:03:00.429228Z",
     "shell.execute_reply": "2024-01-30T14:03:00.427815Z"
    },
    "papermill": {
     "duration": 0.048687,
     "end_time": "2024-01-30T14:03:00.432440",
     "exception": false,
     "start_time": "2024-01-30T14:03:00.383753",
     "status": "completed"
    },
    "tags": []
   },
   "outputs": [],
   "source": [
    "# Preparation for Correlation Analysis\n",
    "\n",
    "def DataFrame_Maker(Name, df_1, df_2, col_1, col_2):\n",
    "    material = {}\n",
    "    material[col_1] = list(df_1[Name])\n",
    "    material[col_2] = list(df_2[Name])\n",
    "    return(pd.DataFrame(material))\n",
    "\n",
    "# Make dictionary containing times series df for each countries\n",
    "countries_df = {}\n",
    "for country in country_list:\n",
    "    countries_df[country] = DataFrame_Maker(country, df_risk, df_alcohol, \"Risk\", \"Alcohol\")\n",
    "\n",
    "# Make dictionary containing horizontal df for each time period\n",
    "years_df = {}    \n",
    "for year in list(range(1990, 2020)):\n",
    "    years_df[str(year)] = DataFrame_Maker(year, df_risk.transpose(), df_alcohol.transpose(), \"Risk\", \"Alcohol\")"
   ]
  },
  {
   "cell_type": "code",
   "execution_count": 14,
   "id": "856f866a",
   "metadata": {
    "execution": {
     "iopub.execute_input": "2024-01-30T14:03:00.449943Z",
     "iopub.status.busy": "2024-01-30T14:03:00.449506Z",
     "iopub.status.idle": "2024-01-30T14:03:00.469937Z",
     "shell.execute_reply": "2024-01-30T14:03:00.468668Z"
    },
    "papermill": {
     "duration": 0.03193,
     "end_time": "2024-01-30T14:03:00.472680",
     "exception": false,
     "start_time": "2024-01-30T14:03:00.440750",
     "status": "completed"
    },
    "tags": []
   },
   "outputs": [],
   "source": [
    "# Correlation Analysis\n",
    "\n",
    "corr_countrywise = {}\n",
    "for country in country_list:\n",
    "    data = []\n",
    "    data.append(countries_df[country].corr()[\"Alcohol\"][\"Risk\"])\n",
    "    corr_countrywise[country] = data\n",
    "df_corr_country = pd.DataFrame(corr_countrywise)\n",
    "\n",
    "corr_yearwise = {}\n",
    "for year in list(range(1990, 2020)):\n",
    "    data = []\n",
    "    data.append(years_df[str(year)].corr()[\"Alcohol\"][\"Risk\"])\n",
    "    corr_yearwise[year] = data\n",
    "df_corr_year = pd.DataFrame(corr_yearwise)"
   ]
  },
  {
   "cell_type": "code",
   "execution_count": 15,
   "id": "952e5319",
   "metadata": {
    "execution": {
     "iopub.execute_input": "2024-01-30T14:03:00.489352Z",
     "iopub.status.busy": "2024-01-30T14:03:00.488795Z",
     "iopub.status.idle": "2024-01-30T14:03:00.508501Z",
     "shell.execute_reply": "2024-01-30T14:03:00.507304Z"
    },
    "papermill": {
     "duration": 0.03098,
     "end_time": "2024-01-30T14:03:00.510984",
     "exception": false,
     "start_time": "2024-01-30T14:03:00.480004",
     "status": "completed"
    },
    "tags": []
   },
   "outputs": [
    {
     "data": {
      "text/html": [
       "<div>\n",
       "<style scoped>\n",
       "    .dataframe tbody tr th:only-of-type {\n",
       "        vertical-align: middle;\n",
       "    }\n",
       "\n",
       "    .dataframe tbody tr th {\n",
       "        vertical-align: top;\n",
       "    }\n",
       "\n",
       "    .dataframe thead th {\n",
       "        text-align: right;\n",
       "    }\n",
       "</style>\n",
       "<table border=\"1\" class=\"dataframe\">\n",
       "  <thead>\n",
       "    <tr style=\"text-align: right;\">\n",
       "      <th></th>\n",
       "      <th>0</th>\n",
       "    </tr>\n",
       "  </thead>\n",
       "  <tbody>\n",
       "    <tr>\n",
       "      <th>count</th>\n",
       "      <td>8.000000</td>\n",
       "    </tr>\n",
       "    <tr>\n",
       "      <th>mean</th>\n",
       "      <td>-0.028082</td>\n",
       "    </tr>\n",
       "    <tr>\n",
       "      <th>std</th>\n",
       "      <td>0.224286</td>\n",
       "    </tr>\n",
       "    <tr>\n",
       "      <th>min</th>\n",
       "      <td>-0.346655</td>\n",
       "    </tr>\n",
       "    <tr>\n",
       "      <th>25%</th>\n",
       "      <td>-0.172750</td>\n",
       "    </tr>\n",
       "    <tr>\n",
       "      <th>50%</th>\n",
       "      <td>-0.030347</td>\n",
       "    </tr>\n",
       "    <tr>\n",
       "      <th>75%</th>\n",
       "      <td>0.157419</td>\n",
       "    </tr>\n",
       "    <tr>\n",
       "      <th>max</th>\n",
       "      <td>0.277337</td>\n",
       "    </tr>\n",
       "  </tbody>\n",
       "</table>\n",
       "</div>"
      ],
      "text/plain": [
       "              0\n",
       "count  8.000000\n",
       "mean  -0.028082\n",
       "std    0.224286\n",
       "min   -0.346655\n",
       "25%   -0.172750\n",
       "50%   -0.030347\n",
       "75%    0.157419\n",
       "max    0.277337"
      ]
     },
     "execution_count": 15,
     "metadata": {},
     "output_type": "execute_result"
    }
   ],
   "source": [
    "df_corr_country.transpose().describe()"
   ]
  },
  {
   "cell_type": "code",
   "execution_count": 16,
   "id": "de627ae4",
   "metadata": {
    "execution": {
     "iopub.execute_input": "2024-01-30T14:03:00.528040Z",
     "iopub.status.busy": "2024-01-30T14:03:00.527603Z",
     "iopub.status.idle": "2024-01-30T14:03:00.543709Z",
     "shell.execute_reply": "2024-01-30T14:03:00.542334Z"
    },
    "papermill": {
     "duration": 0.027894,
     "end_time": "2024-01-30T14:03:00.546428",
     "exception": false,
     "start_time": "2024-01-30T14:03:00.518534",
     "status": "completed"
    },
    "tags": []
   },
   "outputs": [
    {
     "data": {
      "text/html": [
       "<div>\n",
       "<style scoped>\n",
       "    .dataframe tbody tr th:only-of-type {\n",
       "        vertical-align: middle;\n",
       "    }\n",
       "\n",
       "    .dataframe tbody tr th {\n",
       "        vertical-align: top;\n",
       "    }\n",
       "\n",
       "    .dataframe thead th {\n",
       "        text-align: right;\n",
       "    }\n",
       "</style>\n",
       "<table border=\"1\" class=\"dataframe\">\n",
       "  <thead>\n",
       "    <tr style=\"text-align: right;\">\n",
       "      <th></th>\n",
       "      <th>0</th>\n",
       "    </tr>\n",
       "  </thead>\n",
       "  <tbody>\n",
       "    <tr>\n",
       "      <th>count</th>\n",
       "      <td>30.000000</td>\n",
       "    </tr>\n",
       "    <tr>\n",
       "      <th>mean</th>\n",
       "      <td>-0.260206</td>\n",
       "    </tr>\n",
       "    <tr>\n",
       "      <th>std</th>\n",
       "      <td>0.342441</td>\n",
       "    </tr>\n",
       "    <tr>\n",
       "      <th>min</th>\n",
       "      <td>-0.732976</td>\n",
       "    </tr>\n",
       "    <tr>\n",
       "      <th>25%</th>\n",
       "      <td>-0.571370</td>\n",
       "    </tr>\n",
       "    <tr>\n",
       "      <th>50%</th>\n",
       "      <td>-0.324676</td>\n",
       "    </tr>\n",
       "    <tr>\n",
       "      <th>75%</th>\n",
       "      <td>-0.020083</td>\n",
       "    </tr>\n",
       "    <tr>\n",
       "      <th>max</th>\n",
       "      <td>0.423874</td>\n",
       "    </tr>\n",
       "  </tbody>\n",
       "</table>\n",
       "</div>"
      ],
      "text/plain": [
       "               0\n",
       "count  30.000000\n",
       "mean   -0.260206\n",
       "std     0.342441\n",
       "min    -0.732976\n",
       "25%    -0.571370\n",
       "50%    -0.324676\n",
       "75%    -0.020083\n",
       "max     0.423874"
      ]
     },
     "execution_count": 16,
     "metadata": {},
     "output_type": "execute_result"
    }
   ],
   "source": [
    "df_corr_year.transpose().describe()"
   ]
  }
 ],
 "metadata": {
  "kaggle": {
   "accelerator": "none",
   "dataSources": [
    {
     "datasetId": 4376542,
     "sourceId": 7513844,
     "sourceType": "datasetVersion"
    }
   ],
   "dockerImageVersionId": 30646,
   "isGpuEnabled": false,
   "isInternetEnabled": true,
   "language": "python",
   "sourceType": "notebook"
  },
  "kernelspec": {
   "display_name": "Python 3 (ipykernel)",
   "language": "python",
   "name": "python3"
  },
  "language_info": {
   "codemirror_mode": {
    "name": "ipython",
    "version": 3
   },
   "file_extension": ".py",
   "mimetype": "text/x-python",
   "name": "python",
   "nbconvert_exporter": "python",
   "pygments_lexer": "ipython3",
   "version": "3.9.7"
  },
  "papermill": {
   "default_parameters": {},
   "duration": 5.52648,
   "end_time": "2024-01-30T14:03:01.076217",
   "environment_variables": {},
   "exception": null,
   "input_path": "__notebook__.ipynb",
   "output_path": "__notebook__.ipynb",
   "parameters": {},
   "start_time": "2024-01-30T14:02:55.549737",
   "version": "2.5.0"
  }
 },
 "nbformat": 4,
 "nbformat_minor": 5
}
