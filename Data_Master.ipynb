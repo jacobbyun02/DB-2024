{
 "cells": [
  {
   "cell_type": "code",
   "execution_count": 1,
   "id": "31ed33fd",
   "metadata": {},
   "outputs": [],
   "source": [
    "import pandas as pd\n",
    "import seaborn as sns\n",
    "import matplotlib.pyplot as plt"
   ]
  },
  {
   "cell_type": "code",
   "execution_count": 2,
   "id": "afd95e53",
   "metadata": {},
   "outputs": [],
   "source": [
    "# source - IHME GBD 2019\n",
    "df_alcohol = pd.read_csv(\"alcohol_use_disorders.csv\")\n",
    "\n",
    "# source - The World Bank Global Financial Development\n",
    "df_risk = pd.read_csv(\"stock_price_volatility_g7.csv\")\n",
    "\n",
    "# source - WHO Age-Standardized Suicide Rates per 100,000 population\n",
    "df_suicide = pd.read_csv(\"suicide.csv\")\n",
    "\n",
    "# source - \n",
    "df_social = pd.read_csv(\"social_support.csv\")"
   ]
  },
  {
   "cell_type": "markdown",
   "id": "bc14095d",
   "metadata": {},
   "source": [
    "### Data Preperation"
   ]
  },
  {
   "cell_type": "code",
   "execution_count": 3,
   "id": "ca3da4d9",
   "metadata": {},
   "outputs": [],
   "source": [
    "df_risk = df_risk.drop([\"Series Name\", \"Country Code\"], axis = 1)\n",
    "df_risk = df_risk.rename(columns={\"Country Name\": \"Country\"})\n",
    "df_risk.loc[2, \"Country\"] = \"South Korea\""
   ]
  },
  {
   "cell_type": "code",
   "execution_count": 4,
   "id": "df2d3e97",
   "metadata": {},
   "outputs": [],
   "source": [
    "# Rename year for df_risk\n",
    "\n",
    "year_index = {}\n",
    "year_list = []\n",
    "\n",
    "for i_year in range(1990, 2022):\n",
    "    year_list.append(i_year)\n",
    "\n",
    "for year in year_list:\n",
    "    target_index = f\"{year}\"+\" [YR\"+f\"{year}\"+\"]\"\n",
    "    year_index[target_index] = year\n",
    "    \n",
    "df_risk = df_risk.rename(columns=year_index)\n",
    "df_risk = df_risk.sort_values(\"Country\")"
   ]
  },
  {
   "cell_type": "code",
   "execution_count": 5,
   "id": "6a8e118e",
   "metadata": {
    "scrolled": true
   },
   "outputs": [],
   "source": [
    "alcohol_code = \"Current number of cases of alcohol use disorders per 100 people, in both sexes aged age-standardized\"\n",
    "df_alcohol = df_alcohol.rename(columns={\"Entity\": \"Country\", alcohol_code: \"Alcohol\"})\n",
    "df_alcohol = df_alcohol.drop([\"Code\"], axis = 1)"
   ]
  },
  {
   "cell_type": "code",
   "execution_count": 6,
   "id": "31f7b871",
   "metadata": {},
   "outputs": [],
   "source": [
    "# Select Countries for df_alcohol\n",
    "country_index = []\n",
    "country_list = list(df_risk[\"Country\"].unique())\n",
    "for i_country in range(6840):\n",
    "    if df_alcohol[\"Country\"][i_country] in country_list:\n",
    "        country_index.append(i_country)"
   ]
  },
  {
   "cell_type": "code",
   "execution_count": 7,
   "id": "b2f23607",
   "metadata": {},
   "outputs": [],
   "source": [
    "# Change df_alcohol to DataFrame containing target countries only\n",
    "df_alc = pd.DataFrame()\n",
    "for col_name in [\"Country\", \"Year\", \"Alcohol\"]:\n",
    "    df_alc[col_name] = list(df_alcohol.loc[country_index, col_name])\n",
    "df_alcohol = df_alc"
   ]
  },
  {
   "cell_type": "code",
   "execution_count": 8,
   "id": "1573e4f0",
   "metadata": {},
   "outputs": [],
   "source": [
    "# Handling Missing Values\n",
    "\n",
    "df_alcohol.isna().any()\n",
    "df_risk.isna().sum()\n",
    "df_suicide.isna().any()\n",
    "df_social.isna().any()\n",
    "\n",
    "# Fill Missing Values\n",
    "\n",
    "df_risk = df_risk.fillna(df_risk.loc[df_risk[\"Country\"]==\"Italy\"].transpose()[4][9:].mean())\n",
    "df_social = df_social.transpose().fillna(method=\"ffill\").transpose()"
   ]
  },
  {
   "cell_type": "code",
   "execution_count": 9,
   "id": "7cdfac38",
   "metadata": {},
   "outputs": [],
   "source": [
    "# Organize row orders\n",
    "\n",
    "df_social = df_social.sort_values(\"Country\")\n",
    "df_suicidie = df_suicide.sort_values(\"Country\")"
   ]
  },
  {
   "cell_type": "code",
   "execution_count": 10,
   "id": "69cd4578",
   "metadata": {},
   "outputs": [],
   "source": [
    "# Make time series form of df_alcohol\n",
    "df_alc_t = pd.DataFrame()\n",
    "year_list = []\n",
    "\n",
    "df_alc_t[\"Country\"] = country_list\n",
    "\n",
    "for i_year in range(1990, 2020):\n",
    "    year_list.append(i_year)\n",
    "    \n",
    "for j_year in year_list:\n",
    "    df_alc_t[str(j_year)] = list(df_alcohol.loc[df_alcohol[\"Year\"]==j_year, \"Alcohol\"])\n",
    "    \n",
    "df_alcohol_t = df_alc_t"
   ]
  },
  {
   "cell_type": "code",
   "execution_count": 11,
   "id": "df44d48a",
   "metadata": {},
   "outputs": [],
   "source": [
    "# Make normal form of df_alcohol\n",
    "index = {}\n",
    "count = 0\n",
    "\n",
    "df_alcohol = df_alcohol_t.transpose()\n",
    "\n",
    "for i_index_2 in range(8):\n",
    "    index[i_index_2] = country_list[count]\n",
    "    count += 1\n",
    "    \n",
    "df_alcohol = df_alcohol.rename(columns=index)\n",
    "df_alcohol = df_alcohol.drop([\"Country\"], axis=0)"
   ]
  },
  {
   "cell_type": "code",
   "execution_count": 12,
   "id": "a353abe0",
   "metadata": {
    "scrolled": true
   },
   "outputs": [],
   "source": [
    "# Make normal form and time series form of df_risk\n",
    "\n",
    "df_risk_t = df_risk\n",
    "\n",
    "index_list = [5, 6, 3, 4, 0, 2, 7, 1]\n",
    "index = {}\n",
    "count = 0\n",
    "\n",
    "df_risk = df_risk_t.transpose()\n",
    "for i_index in index_list:\n",
    "    index[i_index] = country_list[count]\n",
    "    count += 1\n",
    "    \n",
    "df_risk = df_risk.rename(columns=index)\n",
    "df_risk = df_risk.drop([\"Country\"], axis=0)"
   ]
  },
  {
   "cell_type": "code",
   "execution_count": 13,
   "id": "be616bb7",
   "metadata": {},
   "outputs": [],
   "source": [
    "# Make normal form and time series form of df_suicide\n",
    "\n",
    "df_suicide_t = df_suicide\n",
    "\n",
    "df_suicide = df_suicide_t.transpose()\n",
    "\n",
    "index_list = list(range(0,8))\n",
    "index = {}\n",
    "count = 0\n",
    "\n",
    "for i_index in index_list:\n",
    "    index[i_index] = country_list[count]\n",
    "    count += 1\n",
    "\n",
    "df_suicide = df_suicide.rename(columns=index).drop([\"Country\"], axis=0)"
   ]
  },
  {
   "cell_type": "code",
   "execution_count": 14,
   "id": "80a45c2e",
   "metadata": {},
   "outputs": [],
   "source": [
    "# Make normal form and time series form of df_social\n",
    "\n",
    "df_social_t = df_social\n",
    "\n",
    "df_social = df_social_t.transpose()\n",
    "\n",
    "df_social = df_social.rename(columns=index).drop([\"Country\"], axis=0)"
   ]
  },
  {
   "cell_type": "code",
   "execution_count": 15,
   "id": "0d3583a5",
   "metadata": {},
   "outputs": [],
   "source": [
    "# Adjust Index DataTypes\n",
    "\n",
    "attributes = [\"Risk\", \"Alcohol\", \"Suicide\", \"Social\"]\n",
    "for attr in attributes:\n",
    "    attr = attr.lower()\n",
    "    exec(f\"df_{attr}.index = df_{attr}.index.astype(int)\", globals())"
   ]
  },
  {
   "cell_type": "markdown",
   "id": "3bd6f1ae",
   "metadata": {},
   "source": [
    "#### Now we have eight dataframes; \n",
    "1. Normal Form: df_alcohol, df_risk, df_suicide, df_social\n",
    "2. Time Series Form: df_alcohol_t, df_risk_t, df_suicide_t, df_social_t\n",
    "\n",
    "#### Using these, we are going to build the main DataFrame, named df"
   ]
  },
  {
   "cell_type": "code",
   "execution_count": 16,
   "id": "ca9c42f2",
   "metadata": {},
   "outputs": [],
   "source": [
    "df = pd.DataFrame()"
   ]
  },
  {
   "cell_type": "code",
   "execution_count": 17,
   "id": "b9251663",
   "metadata": {},
   "outputs": [],
   "source": [
    "# Make Year Column\n",
    "years = range(2006, 2020)\n",
    "year_list = []\n",
    "for year in years:\n",
    "    for rep in range(len(country_list)):\n",
    "        year_list.append(year)\n",
    "df[\"Year\"] = year_list"
   ]
  },
  {
   "cell_type": "code",
   "execution_count": 18,
   "id": "867372c7",
   "metadata": {},
   "outputs": [],
   "source": [
    "# Make Country Column\n",
    "country_list_df = []\n",
    "for rep in range(len(range(2006, 2020))):\n",
    "    for country in country_list:\n",
    "        country_list_df.append(country)\n",
    "df[\"Country\"] = country_list_df"
   ]
  },
  {
   "cell_type": "code",
   "execution_count": 19,
   "id": "3a64368c",
   "metadata": {},
   "outputs": [],
   "source": [
    "# Make Attributes Column\n",
    "df[\"Risk\"] = 0\n",
    "df[\"Alcohol\"] = 0\n",
    "df[\"Suicide\"] = 0\n",
    "df[\"Social\"] = 0"
   ]
  },
  {
   "cell_type": "code",
   "execution_count": 20,
   "id": "8e9e3dd5",
   "metadata": {},
   "outputs": [],
   "source": [
    "# Fill Attributes Column\n",
    "\n",
    "def Column_Filler(attribute):\n",
    "    for country in country_list:\n",
    "        exec(f\"filler = list(df_{attribute.lower()}.loc[2006:2019, '{country}'])\", globals())\n",
    "        df.loc[df[\"Country\"]==country, attribute] = filler\n",
    "\n",
    "for attr in attributes:\n",
    "    Column_Filler(attr)"
   ]
  },
  {
   "cell_type": "markdown",
   "id": "9d3d5474",
   "metadata": {},
   "source": [
    "### Data Exploration"
   ]
  },
  {
   "cell_type": "code",
   "execution_count": 21,
   "id": "1e0888bd",
   "metadata": {
    "scrolled": true
   },
   "outputs": [
    {
     "name": "stdout",
     "output_type": "stream",
     "text": [
      "Alcohol : -0.2986015283320355\n",
      "Suicide : -0.1312161839045365\n",
      "Social : 0.058699853348999756\n"
     ]
    }
   ],
   "source": [
    "# Correlation Analysis\n",
    "\n",
    "attributes.remove(\"Risk\")\n",
    "\n",
    "for attr in attributes:\n",
    "    corr = df[[\"Risk\", attr]].corr().loc[\"Risk\", attr]\n",
    "    print(attr, \":\", corr)"
   ]
  },
  {
   "cell_type": "code",
   "execution_count": 22,
   "id": "685cc367",
   "metadata": {},
   "outputs": [
    {
     "data": {
      "text/plain": [
       "<AxesSubplot:xlabel='Alcohol', ylabel='Risk'>"
      ]
     },
     "execution_count": 22,
     "metadata": {},
     "output_type": "execute_result"
    },
    {
     "data": {
      "image/png": "[encoded data removed]",
      "text/plain": [
       "<Figure size 432x288 with 1 Axes>"
      ]
     },
     "metadata": {
      "needs_background": "light"
     },
     "output_type": "display_data"
    }
   ],
   "source": [
    "df.loc[df[\"Year\"]==2006,:].plot.scatter(x=\"Alcohol\", y = \"Risk\")"
   ]
  },
  {
   "cell_type": "code",
   "execution_count": 23,
   "id": "4d212cf6",
   "metadata": {
    "scrolled": false
   },
   "outputs": [
    {
     "data": {
      "text/plain": [
       "<AxesSubplot:xlabel='Alcohol', ylabel='Risk'>"
      ]
     },
     "execution_count": 23,
     "metadata": {},
     "output_type": "execute_result"
    },
    {
     "data": {
      "image/png": "[encoded data removed]",
      "text/plain": [
       "<Figure size 432x288 with 1 Axes>"
      ]
     },
     "metadata": {
      "needs_background": "light"
     },
     "output_type": "display_data"
    }
   ],
   "source": [
    "df.loc[df[\"Country\"]==\"South Korea\"].plot.scatter(x=\"Alcohol\", y=\"Risk\")"
   ]
  },
  {
   "cell_type": "code",
   "execution_count": 24,
   "id": "8ca0cb54",
   "metadata": {},
   "outputs": [
    {
     "data": {
      "text/plain": [
       "<AxesSubplot:xlabel='Alcohol', ylabel='Risk'>"
      ]
     },
     "execution_count": 24,
     "metadata": {},
     "output_type": "execute_result"
    },
    {
     "data": {
      "image/png": "[encoded data removed]",
      "text/plain": [
       "<Figure size 432x288 with 1 Axes>"
      ]
     },
     "metadata": {
      "needs_background": "light"
     },
     "output_type": "display_data"
    }
   ],
   "source": [
    "sns.scatterplot(x = \"Alcohol\", y = \"Risk\", hue = \"Country\", data = df)"
   ]
  },
  {
   "cell_type": "code",
   "execution_count": 26,
   "id": "7cb1754a",
   "metadata": {},
   "outputs": [
    {
     "data": {
      "text/plain": [
       "<AxesSubplot:xlabel='Suicide', ylabel='Risk'>"
      ]
     },
     "execution_count": 26,
     "metadata": {},
     "output_type": "execute_result"
    },
    {
     "data": {
      "image/png": "[encoded data removed]",
      "text/plain": [
       "<Figure size 432x288 with 1 Axes>"
      ]
     },
     "metadata": {
      "needs_background": "light"
     },
     "output_type": "display_data"
    }
   ],
   "source": [
    "sns.scatterplot(x = \"Suicide\", y = \"Risk\", hue = \"Country\", data = df)"
   ]
  }
 ],
 "metadata": {
  "kernelspec": {
   "display_name": "Python 3 (ipykernel)",
   "language": "python",
   "name": "python3"
  },
  "language_info": {
   "codemirror_mode": {
    "name": "ipython",
    "version": 3
   },
   "file_extension": ".py",
   "mimetype": "text/x-python",
   "name": "python",
   "nbconvert_exporter": "python",
   "pygments_lexer": "ipython3",
   "version": "3.9.7"
  }
 },
 "nbformat": 4,
 "nbformat_minor": 5
}
