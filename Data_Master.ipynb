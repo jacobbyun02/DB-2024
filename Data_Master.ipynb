{
 "cells": [
  {
   "cell_type": "code",
   "execution_count": 2,
   "id": "31ed33fd",
   "metadata": {},
   "outputs": [],
   "source": [
    "import pandas as pd\n",
    "import seaborn as sns\n",
    "import matplotlib.pyplot as plt"
   ]
  },
  {
   "cell_type": "code",
   "execution_count": 3,
   "id": "afd95e53",
   "metadata": {},
   "outputs": [],
   "source": [
    "# source - IHME GBD 2019\n",
    "df_alcohol = pd.read_csv(\"alcohol_use_disorders.csv\")\n",
    "\n",
    "# source - The World Bank Global Financial Development\n",
    "df_risk = pd.read_csv(\"stock_price_volatility_g7.csv\")"
   ]
  },
  {
   "cell_type": "markdown",
   "id": "bc14095d",
   "metadata": {},
   "source": [
    "### Data Preperation"
   ]
  },
  {
   "cell_type": "code",
   "execution_count": 4,
   "id": "ca3da4d9",
   "metadata": {},
   "outputs": [],
   "source": [
    "df_risk = df_risk.drop([\"Series Name\", \"Country Code\"], axis = 1)\n",
    "df_risk = df_risk.rename(columns={\"Country Name\": \"Country\"})\n",
    "df_risk.loc[2, \"Country\"] = \"South Korea\""
   ]
  },
  {
   "cell_type": "code",
   "execution_count": 5,
   "id": "df2d3e97",
   "metadata": {},
   "outputs": [],
   "source": [
    "#Rename year for df_risk\n",
    "\n",
    "year_index = {}\n",
    "year_list = []\n",
    "\n",
    "for i_year in range(1990, 2022):\n",
    "    year_list.append(i_year)\n",
    "\n",
    "for year in year_list:\n",
    "    target_index = f\"{year}\"+\" [YR\"+f\"{year}\"+\"]\"\n",
    "    year_index[target_index] = year\n",
    "    \n",
    "df_risk = df_risk.rename(columns=year_index)\n",
    "df_risk = df_risk.sort_values(\"Country\")"
   ]
  },
  {
   "cell_type": "code",
   "execution_count": 6,
   "id": "6a8e118e",
   "metadata": {
    "scrolled": true
   },
   "outputs": [],
   "source": [
    "alcohol_code = \"Current number of cases of alcohol use disorders per 100 people, in both sexes aged age-standardized\"\n",
    "df_alcohol = df_alcohol.rename(columns={\"Entity\": \"Country\", alcohol_code: \"Alcohol\"})\n",
    "df_alcohol = df_alcohol.drop([\"Code\"], axis = 1)"
   ]
  },
  {
   "cell_type": "code",
   "execution_count": 8,
   "id": "31f7b871",
   "metadata": {},
   "outputs": [],
   "source": [
    "#Select Countries for df_alcohol\n",
    "country_index = []\n",
    "country_list = list(df_risk[\"Country\"].unique())\n",
    "for i_country in range(6840):\n",
    "    if df_alcohol[\"Country\"][i_country] in country_list:\n",
    "        country_index.append(i_country)"
   ]
  },
  {
   "cell_type": "code",
   "execution_count": 9,
   "id": "b2f23607",
   "metadata": {},
   "outputs": [],
   "source": [
    "#Change df_alcohol to DataFrame containing target countries only\n",
    "df_alc = pd.DataFrame()\n",
    "for col_name in [\"Country\", \"Year\", \"Alcohol\"]:\n",
    "    df_alc[col_name] = list(df_alcohol.loc[country_index, col_name])\n",
    "df_alcohol = df_alc"
   ]
  },
  {
   "cell_type": "code",
   "execution_count": 15,
   "id": "1573e4f0",
   "metadata": {},
   "outputs": [],
   "source": [
    "#Handling Missing Values\n",
    "\n",
    "df_alcohol.isna().any()\n",
    "df_risk.isna().sum()\n",
    "\n",
    "#Fill Missing Values with Mean\n",
    "\n",
    "df_risk = df_risk.fillna(df_risk.loc[df_risk[\"Country\"]==\"Italy\"].transpose()[4][9:].mean())"
   ]
  },
  {
   "cell_type": "code",
   "execution_count": 17,
   "id": "69cd4578",
   "metadata": {},
   "outputs": [],
   "source": [
    "#Make time series form of df_alcohol\n",
    "df_alc_t = pd.DataFrame()\n",
    "year_list = []\n",
    "\n",
    "df_alc_t[\"Country\"] = country_list\n",
    "\n",
    "for i_year in range(1990, 2020):\n",
    "    year_list.append(i_year)\n",
    "    \n",
    "for j_year in year_list:\n",
    "    df_alc_t[str(j_year)] = list(df_alcohol.loc[df_alcohol[\"Year\"]==j_year, \"Alcohol\"])\n",
    "    \n",
    "df_alcohol_t = df_alc_t"
   ]
  },
  {
   "cell_type": "code",
   "execution_count": 18,
   "id": "f062e3ab",
   "metadata": {},
   "outputs": [
    {
     "data": {
      "text/html": [
       "<div>\n",
       "<style scoped>\n",
       "    .dataframe tbody tr th:only-of-type {\n",
       "        vertical-align: middle;\n",
       "    }\n",
       "\n",
       "    .dataframe tbody tr th {\n",
       "        vertical-align: top;\n",
       "    }\n",
       "\n",
       "    .dataframe thead th {\n",
       "        text-align: right;\n",
       "    }\n",
       "</style>\n",
       "<table border=\"1\" class=\"dataframe\">\n",
       "  <thead>\n",
       "    <tr style=\"text-align: right;\">\n",
       "      <th></th>\n",
       "      <th>Country</th>\n",
       "      <th>1990</th>\n",
       "      <th>1991</th>\n",
       "      <th>1992</th>\n",
       "      <th>1993</th>\n",
       "      <th>1994</th>\n",
       "      <th>1995</th>\n",
       "      <th>1996</th>\n",
       "      <th>1997</th>\n",
       "      <th>1998</th>\n",
       "      <th>...</th>\n",
       "      <th>2010</th>\n",
       "      <th>2011</th>\n",
       "      <th>2012</th>\n",
       "      <th>2013</th>\n",
       "      <th>2014</th>\n",
       "      <th>2015</th>\n",
       "      <th>2016</th>\n",
       "      <th>2017</th>\n",
       "      <th>2018</th>\n",
       "      <th>2019</th>\n",
       "    </tr>\n",
       "  </thead>\n",
       "  <tbody>\n",
       "    <tr>\n",
       "      <th>0</th>\n",
       "      <td>Canada</td>\n",
       "      <td>1.717368</td>\n",
       "      <td>1.715439</td>\n",
       "      <td>1.714879</td>\n",
       "      <td>1.715831</td>\n",
       "      <td>1.718377</td>\n",
       "      <td>1.722748</td>\n",
       "      <td>1.730253</td>\n",
       "      <td>1.740676</td>\n",
       "      <td>1.751877</td>\n",
       "      <td>...</td>\n",
       "      <td>1.753376</td>\n",
       "      <td>1.755329</td>\n",
       "      <td>1.756109</td>\n",
       "      <td>1.756710</td>\n",
       "      <td>1.758150</td>\n",
       "      <td>1.761381</td>\n",
       "      <td>1.789149</td>\n",
       "      <td>1.816893</td>\n",
       "      <td>1.809836</td>\n",
       "      <td>1.782449</td>\n",
       "    </tr>\n",
       "    <tr>\n",
       "      <th>1</th>\n",
       "      <td>France</td>\n",
       "      <td>2.135233</td>\n",
       "      <td>2.116238</td>\n",
       "      <td>2.100389</td>\n",
       "      <td>2.088314</td>\n",
       "      <td>2.080600</td>\n",
       "      <td>2.077833</td>\n",
       "      <td>2.081069</td>\n",
       "      <td>2.089028</td>\n",
       "      <td>2.098813</td>\n",
       "      <td>...</td>\n",
       "      <td>2.090623</td>\n",
       "      <td>2.081130</td>\n",
       "      <td>2.068672</td>\n",
       "      <td>2.055404</td>\n",
       "      <td>2.043445</td>\n",
       "      <td>2.034960</td>\n",
       "      <td>2.021156</td>\n",
       "      <td>2.009220</td>\n",
       "      <td>2.014781</td>\n",
       "      <td>2.033507</td>\n",
       "    </tr>\n",
       "    <tr>\n",
       "      <th>2</th>\n",
       "      <td>Germany</td>\n",
       "      <td>2.491382</td>\n",
       "      <td>2.494819</td>\n",
       "      <td>2.493255</td>\n",
       "      <td>2.485714</td>\n",
       "      <td>2.471811</td>\n",
       "      <td>2.451183</td>\n",
       "      <td>2.421373</td>\n",
       "      <td>2.383398</td>\n",
       "      <td>2.341902</td>\n",
       "      <td>...</td>\n",
       "      <td>2.064243</td>\n",
       "      <td>2.051201</td>\n",
       "      <td>2.021168</td>\n",
       "      <td>1.986447</td>\n",
       "      <td>1.959062</td>\n",
       "      <td>1.950847</td>\n",
       "      <td>1.957010</td>\n",
       "      <td>1.965377</td>\n",
       "      <td>1.987297</td>\n",
       "      <td>2.025631</td>\n",
       "    </tr>\n",
       "    <tr>\n",
       "      <th>3</th>\n",
       "      <td>Italy</td>\n",
       "      <td>1.521617</td>\n",
       "      <td>1.506037</td>\n",
       "      <td>1.492358</td>\n",
       "      <td>1.481402</td>\n",
       "      <td>1.473978</td>\n",
       "      <td>1.470883</td>\n",
       "      <td>1.471688</td>\n",
       "      <td>1.474541</td>\n",
       "      <td>1.478221</td>\n",
       "      <td>...</td>\n",
       "      <td>1.488804</td>\n",
       "      <td>1.480130</td>\n",
       "      <td>1.461930</td>\n",
       "      <td>1.440294</td>\n",
       "      <td>1.421369</td>\n",
       "      <td>1.411290</td>\n",
       "      <td>1.412964</td>\n",
       "      <td>1.422441</td>\n",
       "      <td>1.448643</td>\n",
       "      <td>1.494225</td>\n",
       "    </tr>\n",
       "    <tr>\n",
       "      <th>4</th>\n",
       "      <td>Japan</td>\n",
       "      <td>0.604940</td>\n",
       "      <td>0.602135</td>\n",
       "      <td>0.599249</td>\n",
       "      <td>0.596345</td>\n",
       "      <td>0.593518</td>\n",
       "      <td>0.590873</td>\n",
       "      <td>0.587805</td>\n",
       "      <td>0.584022</td>\n",
       "      <td>0.580017</td>\n",
       "      <td>...</td>\n",
       "      <td>0.555182</td>\n",
       "      <td>0.557660</td>\n",
       "      <td>0.562444</td>\n",
       "      <td>0.568028</td>\n",
       "      <td>0.572912</td>\n",
       "      <td>0.575611</td>\n",
       "      <td>0.575651</td>\n",
       "      <td>0.575922</td>\n",
       "      <td>0.582733</td>\n",
       "      <td>0.596416</td>\n",
       "    </tr>\n",
       "    <tr>\n",
       "      <th>5</th>\n",
       "      <td>South Korea</td>\n",
       "      <td>3.082899</td>\n",
       "      <td>3.053105</td>\n",
       "      <td>3.020746</td>\n",
       "      <td>2.986469</td>\n",
       "      <td>2.951300</td>\n",
       "      <td>2.915435</td>\n",
       "      <td>2.869167</td>\n",
       "      <td>2.810675</td>\n",
       "      <td>2.752711</td>\n",
       "      <td>...</td>\n",
       "      <td>3.054677</td>\n",
       "      <td>3.040055</td>\n",
       "      <td>3.029878</td>\n",
       "      <td>3.024071</td>\n",
       "      <td>3.022900</td>\n",
       "      <td>3.026324</td>\n",
       "      <td>3.037984</td>\n",
       "      <td>3.043041</td>\n",
       "      <td>2.820348</td>\n",
       "      <td>2.331827</td>\n",
       "    </tr>\n",
       "    <tr>\n",
       "      <th>6</th>\n",
       "      <td>United Kingdom</td>\n",
       "      <td>2.091263</td>\n",
       "      <td>2.145168</td>\n",
       "      <td>2.203493</td>\n",
       "      <td>2.265083</td>\n",
       "      <td>2.328897</td>\n",
       "      <td>2.394073</td>\n",
       "      <td>2.476720</td>\n",
       "      <td>2.579235</td>\n",
       "      <td>2.680537</td>\n",
       "      <td>...</td>\n",
       "      <td>2.770137</td>\n",
       "      <td>2.817755</td>\n",
       "      <td>2.911299</td>\n",
       "      <td>3.019295</td>\n",
       "      <td>3.109524</td>\n",
       "      <td>3.149893</td>\n",
       "      <td>3.145633</td>\n",
       "      <td>3.137021</td>\n",
       "      <td>3.128760</td>\n",
       "      <td>3.115375</td>\n",
       "    </tr>\n",
       "    <tr>\n",
       "      <th>7</th>\n",
       "      <td>United States</td>\n",
       "      <td>2.903162</td>\n",
       "      <td>2.810663</td>\n",
       "      <td>2.722199</td>\n",
       "      <td>2.641377</td>\n",
       "      <td>2.571763</td>\n",
       "      <td>2.517127</td>\n",
       "      <td>2.463183</td>\n",
       "      <td>2.401178</td>\n",
       "      <td>2.342657</td>\n",
       "      <td>...</td>\n",
       "      <td>2.338463</td>\n",
       "      <td>2.338023</td>\n",
       "      <td>2.336991</td>\n",
       "      <td>2.334484</td>\n",
       "      <td>2.329639</td>\n",
       "      <td>2.321581</td>\n",
       "      <td>2.306408</td>\n",
       "      <td>2.292139</td>\n",
       "      <td>2.291553</td>\n",
       "      <td>2.302180</td>\n",
       "    </tr>\n",
       "  </tbody>\n",
       "</table>\n",
       "<p>8 rows × 31 columns</p>\n",
       "</div>"
      ],
      "text/plain": [
       "          Country      1990      1991      1992      1993      1994      1995  \\\n",
       "0          Canada  1.717368  1.715439  1.714879  1.715831  1.718377  1.722748   \n",
       "1          France  2.135233  2.116238  2.100389  2.088314  2.080600  2.077833   \n",
       "2         Germany  2.491382  2.494819  2.493255  2.485714  2.471811  2.451183   \n",
       "3           Italy  1.521617  1.506037  1.492358  1.481402  1.473978  1.470883   \n",
       "4           Japan  0.604940  0.602135  0.599249  0.596345  0.593518  0.590873   \n",
       "5     South Korea  3.082899  3.053105  3.020746  2.986469  2.951300  2.915435   \n",
       "6  United Kingdom  2.091263  2.145168  2.203493  2.265083  2.328897  2.394073   \n",
       "7   United States  2.903162  2.810663  2.722199  2.641377  2.571763  2.517127   \n",
       "\n",
       "       1996      1997      1998  ...      2010      2011      2012      2013  \\\n",
       "0  1.730253  1.740676  1.751877  ...  1.753376  1.755329  1.756109  1.756710   \n",
       "1  2.081069  2.089028  2.098813  ...  2.090623  2.081130  2.068672  2.055404   \n",
       "2  2.421373  2.383398  2.341902  ...  2.064243  2.051201  2.021168  1.986447   \n",
       "3  1.471688  1.474541  1.478221  ...  1.488804  1.480130  1.461930  1.440294   \n",
       "4  0.587805  0.584022  0.580017  ...  0.555182  0.557660  0.562444  0.568028   \n",
       "5  2.869167  2.810675  2.752711  ...  3.054677  3.040055  3.029878  3.024071   \n",
       "6  2.476720  2.579235  2.680537  ...  2.770137  2.817755  2.911299  3.019295   \n",
       "7  2.463183  2.401178  2.342657  ...  2.338463  2.338023  2.336991  2.334484   \n",
       "\n",
       "       2014      2015      2016      2017      2018      2019  \n",
       "0  1.758150  1.761381  1.789149  1.816893  1.809836  1.782449  \n",
       "1  2.043445  2.034960  2.021156  2.009220  2.014781  2.033507  \n",
       "2  1.959062  1.950847  1.957010  1.965377  1.987297  2.025631  \n",
       "3  1.421369  1.411290  1.412964  1.422441  1.448643  1.494225  \n",
       "4  0.572912  0.575611  0.575651  0.575922  0.582733  0.596416  \n",
       "5  3.022900  3.026324  3.037984  3.043041  2.820348  2.331827  \n",
       "6  3.109524  3.149893  3.145633  3.137021  3.128760  3.115375  \n",
       "7  2.329639  2.321581  2.306408  2.292139  2.291553  2.302180  \n",
       "\n",
       "[8 rows x 31 columns]"
      ]
     },
     "execution_count": 18,
     "metadata": {},
     "output_type": "execute_result"
    }
   ],
   "source": [
    "df_alcohol_t"
   ]
  },
  {
   "cell_type": "code",
   "execution_count": 19,
   "id": "df44d48a",
   "metadata": {},
   "outputs": [],
   "source": [
    "#Make normal form of df_alcohol\n",
    "index = {}\n",
    "count = 0\n",
    "\n",
    "df_alcohol = df_alcohol_t.transpose()\n",
    "\n",
    "for i_index_2 in range(8):\n",
    "    index[i_index_2] = country_list[count]\n",
    "    count += 1\n",
    "    \n",
    "df_alcohol = df_alcohol.rename(columns=index)\n",
    "df_alcohol = df_alcohol.drop([\"Country\"], axis=0)"
   ]
  },
  {
   "cell_type": "code",
   "execution_count": 20,
   "id": "a353abe0",
   "metadata": {
    "scrolled": true
   },
   "outputs": [],
   "source": [
    "#Make normal form and time series form of df_risk\n",
    "\n",
    "df_risk_t = df_risk\n",
    "\n",
    "index_list = [5, 6, 3, 4, 0, 2, 7, 1]\n",
    "index = {}\n",
    "count = 0\n",
    "\n",
    "df_risk = df_risk_t.transpose()\n",
    "for i_index_1 in index_list:\n",
    "    index[i_index_1] = country_list[count]\n",
    "    count += 1\n",
    "    \n",
    "df_risk = df_risk.rename(columns=index)\n",
    "df_risk = df_risk.drop([\"Country\"], axis=0)"
   ]
  },
  {
   "cell_type": "markdown",
   "id": "3bd6f1ae",
   "metadata": {},
   "source": [
    "#### Now we have four dataframes; \n",
    "1. Normal Form: df_alcohol, df_risk\n",
    "2. Time Series Form: df_alcohol_t, df_risk_t\n",
    "\n",
    "#### Using these, we are going to build the main DataFrame, named df"
   ]
  },
  {
   "cell_type": "code",
   "execution_count": 21,
   "id": "ca9c42f2",
   "metadata": {},
   "outputs": [],
   "source": [
    "df = pd.DataFrame()"
   ]
  },
  {
   "cell_type": "code",
   "execution_count": 22,
   "id": "b9251663",
   "metadata": {},
   "outputs": [],
   "source": [
    "# Make Year Column\n",
    "years = range(1990, 2020)\n",
    "year_list = []\n",
    "for year in years:\n",
    "    for rep in range(len(country_list)):\n",
    "        year_list.append(year)\n",
    "df[\"Year\"] = year_list"
   ]
  },
  {
   "cell_type": "code",
   "execution_count": 23,
   "id": "867372c7",
   "metadata": {},
   "outputs": [],
   "source": [
    "# Make Country Column\n",
    "country_list_df = []\n",
    "for rep in range(len(range(1990, 2020))):\n",
    "    for country in country_list:\n",
    "        country_list_df.append(country)\n",
    "df[\"Country\"] = country_list_df"
   ]
  },
  {
   "cell_type": "code",
   "execution_count": 24,
   "id": "3a64368c",
   "metadata": {},
   "outputs": [],
   "source": [
    "# Make Risk and Alcohol Column\n",
    "df[\"Risk\"] = 0\n",
    "df[\"Alcohol\"] = 0"
   ]
  },
  {
   "cell_type": "code",
   "execution_count": 25,
   "id": "8e9e3dd5",
   "metadata": {},
   "outputs": [],
   "source": [
    "# Fill Risk Column\n",
    "\n",
    "for country in country_list:\n",
    "    df.loc[df[\"Country\"]==country, \"Risk\"] = list(df_risk.loc[1990:2019, country])\n",
    "    \n",
    "# Fill Alcohol Column\n",
    "for country in country_list:\n",
    "    df.loc[df[\"Country\"]==country, \"Alcohol\"] = list(df_alcohol[country])"
   ]
  },
  {
   "cell_type": "markdown",
   "id": "9d3d5474",
   "metadata": {},
   "source": [
    "### Data Exploration"
   ]
  },
  {
   "cell_type": "code",
   "execution_count": 57,
   "id": "4d212cf6",
   "metadata": {
    "scrolled": false
   },
   "outputs": [
    {
     "data": {
      "text/plain": [
       "<AxesSubplot:xlabel='Alcohol', ylabel='Risk'>"
      ]
     },
     "execution_count": 57,
     "metadata": {},
     "output_type": "execute_result"
    },
    {
     "data": {
      "image/png": "[encoded data removed]",
      "text/plain": [
       "<Figure size 432x288 with 1 Axes>"
      ]
     },
     "metadata": {
      "needs_background": "light"
     },
     "output_type": "display_data"
    }
   ],
   "source": [
    "df.loc[df[\"Country\"]==\"South Korea\"].plot.scatter(x=\"Alcohol\", y=\"Risk\")"
   ]
  },
  {
   "cell_type": "code",
   "execution_count": 53,
   "id": "8ca0cb54",
   "metadata": {},
   "outputs": [
    {
     "data": {
      "text/plain": [
       "<AxesSubplot:xlabel='Alcohol', ylabel='Risk'>"
      ]
     },
     "execution_count": 53,
     "metadata": {},
     "output_type": "execute_result"
    },
    {
     "data": {
      "image/png": "[encoded data removed]",
      "text/plain": [
       "<Figure size 432x288 with 1 Axes>"
      ]
     },
     "metadata": {
      "needs_background": "light"
     },
     "output_type": "display_data"
    }
   ],
   "source": [
    "sns.scatterplot(x = \"Alcohol\", y = \"Risk\", hue = \"Country\", data = df)"
   ]
  }
 ],
 "metadata": {
  "kernelspec": {
   "display_name": "Python 3 (ipykernel)",
   "language": "python",
   "name": "python3"
  },
  "language_info": {
   "codemirror_mode": {
    "name": "ipython",
    "version": 3
   },
   "file_extension": ".py",
   "mimetype": "text/x-python",
   "name": "python",
   "nbconvert_exporter": "python",
   "pygments_lexer": "ipython3",
   "version": "3.9.7"
  }
 },
 "nbformat": 4,
 "nbformat_minor": 5
}
